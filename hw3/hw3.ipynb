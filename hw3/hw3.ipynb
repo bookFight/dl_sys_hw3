{
  "cells": [
    {
      "cell_type": "markdown",
      "metadata": {
        "id": "f6b3854a95f3a0d7"
      },
      "source": [
        "# 作业3：构建一个NDArray库\n",
        "\n",
        "在本次作业中，你将构建一个用于大多数深度学习系统底层处理的简单支持库：n维数组（又称NDArray）。到目前为止，你在很大程度上一直在使用numpy来实现这一目的，但本作业将引导你开发一个属于自己的（尽管功能有限得多）numpy变体，它将支持CPU和GPU两种后端。此外，与numpy（甚至像PyTorch这样的变体）不同，你不会简单地调用现有的高度优化的矩阵乘法或其他操作代码，而是要实际编写自己的版本，且其性能要与这些标准库背后的高度优化代码相当（从某种程度上来说，即“仅慢2-3倍”……这比 naive 代码要好得多，naive 代码很容易慢100倍以上）。这个类最终将集成到`needle`中，但在本次作业中，你只能专注于ndarray模块，因为这将是测试的唯一内容。\n",
        "\n",
        "**注意**：为了避免耗尽Colab中有限的GPU资源，首先使用CPU运行时来编写代码和测试非GPU函数。在测试CUDA或GPU加速代码时，再切换到GPU运行时。这种方法可以确保高效利用GPU资源，并防止在关键任务期间耗尽资源。"
      ],
      "id": "f6b3854a95f3a0d7"
    },
    {
      "metadata": {
        "id": "759f0f21b108257b"
      },
      "cell_type": "code",
      "outputs": [],
      "execution_count": null,
      "source": [],
      "id": "759f0f21b108257b"
    },
    {
      "cell_type": "code",
      "execution_count": 12,
      "metadata": {
        "id": "6c6efc206aab2127",
        "outputId": "cae227e4-00a1-469f-e35a-c1eada95c0a4",
        "colab": {
          "base_uri": "https://localhost:8080/"
        }
      },
      "outputs": [
        {
          "output_type": "stream",
          "name": "stdout",
          "text": [
            "Drive already mounted at /content/drive; to attempt to forcibly remount, call drive.mount(\"/content/drive\", force_remount=True).\n",
            "/content/drive/MyDrive\n",
            "/content/drive/MyDrive/10714\n",
            "fatal: destination path 'hw3' already exists and is not an empty directory.\n",
            "/content/drive/MyDrive/10714/dl_sys_hw3/hw3\n",
            "Collecting git+https://github.com/dlsys10714/mugrade.git\n",
            "  Cloning https://github.com/dlsys10714/mugrade.git to /tmp/pip-req-build-g2n2pdea\n",
            "  Running command git clone --filter=blob:none --quiet https://github.com/dlsys10714/mugrade.git /tmp/pip-req-build-g2n2pdea\n",
            "  Resolved https://github.com/dlsys10714/mugrade.git to commit 656cdc2b7ad5a37e7a5347a7b0405df0acd72380\n",
            "  Preparing metadata (setup.py) ... \u001b[?25l\u001b[?25hdone\n",
            "Requirement already satisfied: pybind11 in /usr/local/lib/python3.11/dist-packages (3.0.0)\n"
          ]
        }
      ],
      "source": [
        "# Code to set up the assignment\n",
        "from google.colab import drive\n",
        "drive.mount('/content/drive')\n",
        "%cd /content/drive/MyDrive/\n",
        "!mkdir -p 10714\n",
        "%cd /content/drive/MyDrive/10714\n",
        "!git clone https://github.com/dlsys10714/hw3.git\n",
        "%cd /content/drive/MyDrive/10714/dl_sys_hw3/hw3\n",
        "\n",
        "!pip3 install --upgrade --no-deps git+https://github.com/dlsys10714/mugrade.git\n",
        "!pip3 install pybind11"
      ],
      "id": "6c6efc206aab2127"
    },
    {
      "cell_type": "code",
      "metadata": {
        "id": "c2403ce62a0989a5",
        "ExecuteTime": {
          "end_time": "2025-08-16T14:41:43.259982Z",
          "start_time": "2025-08-16T14:40:22.575455Z"
        },
        "outputId": "e6e467ba-e669-4c32-940b-12b3d0ef940b",
        "colab": {
          "base_uri": "https://localhost:8080/"
        }
      },
      "source": [
        "!make"
      ],
      "id": "c2403ce62a0989a5",
      "outputs": [
        {
          "output_type": "stream",
          "name": "stdout",
          "text": [
            "\u001b[0mCMake Deprecation Warning at CMakeLists.txt:1 (cmake_minimum_required):\n",
            "  Compatibility with CMake < 3.10 will be removed from a future version of\n",
            "  CMake.\n",
            "\n",
            "  Update the VERSION argument <min> value.  Or, use the <min>...<max> syntax\n",
            "  to tell CMake that the project requires at least <min> but has been updated\n",
            "  to work with policies introduced by <max> or earlier.\n",
            "\n",
            "\u001b[0m\n",
            "-- The C compiler identification is GNU 11.4.0\n",
            "-- The CXX compiler identification is GNU 11.4.0\n",
            "-- Detecting C compiler ABI info\n",
            "-- Detecting C compiler ABI info - done\n",
            "-- Check for working C compiler: /usr/bin/cc - skipped\n",
            "-- Detecting C compile features\n",
            "-- Detecting C compile features - done\n",
            "-- Detecting CXX compiler ABI info\n",
            "-- Detecting CXX compiler ABI info - done\n",
            "-- Check for working CXX compiler: /usr/bin/c++ - skipped\n",
            "-- Detecting CXX compile features\n",
            "-- Detecting CXX compile features - done\n",
            "-- Found Python: /usr/local/bin/python (found version \"3.11.13\") found components: Development Interpreter Development.Module Development.Embed\n",
            "-- Performing Test HAS_FLTO\n",
            "-- Performing Test HAS_FLTO - Success\n",
            "-- Found pybind11: /usr/local/lib/python3.11/dist-packages/pybind11/include (found version \"3.0.0\")\n",
            "-- Performing Test CMAKE_HAVE_LIBC_PTHREAD\n",
            "-- Performing Test CMAKE_HAVE_LIBC_PTHREAD - Success\n",
            "-- Found Threads: TRUE\n",
            "-- Found CUDA: /usr/local/cuda (found version \"12.5\")\n",
            "-- Found cuda, building cuda backend\n",
            "Sat Aug 16 15:35:51 2025       \n",
            "+-----------------------------------------------------------------------------------------+\n",
            "| NVIDIA-SMI 550.54.15              Driver Version: 550.54.15      CUDA Version: 12.4     |\n",
            "|-----------------------------------------+------------------------+----------------------+\n",
            "| GPU  Name                 Persistence-M | Bus-Id          Disp.A | Volatile Uncorr. ECC |\n",
            "| Fan  Temp   Perf          Pwr:Usage/Cap |           Memory-Usage | GPU-Util  Compute M. |\n",
            "|                                         |                        |               MIG M. |\n",
            "|=========================================+========================+======================|\n",
            "|   0  Tesla T4                       Off |   00000000:00:04.0 Off |                    0 |\n",
            "| N/A   40C    P8              9W /   70W |       0MiB /  15360MiB |      0%      Default |\n",
            "|                                         |                        |                  N/A |\n",
            "+-----------------------------------------+------------------------+----------------------+\n",
            "                                                                                         \n",
            "+-----------------------------------------------------------------------------------------+\n",
            "| Processes:                                                                              |\n",
            "|  GPU   GI   CI        PID   Type   Process name                              GPU Memory |\n",
            "|        ID   ID                                                               Usage      |\n",
            "|=========================================================================================|\n",
            "|  No running processes found                                                             |\n",
            "+-----------------------------------------------------------------------------------------+\n",
            "-- Autodetected CUDA architecture(s):  7.5\n",
            "-- Configuring done (5.5s)\n",
            "-- Generating done (0.2s)\n",
            "-- Build files have been written to: /content/drive/MyDrive/10714/dl_sys_hw3/hw3/build\n",
            "make[1]: Entering directory '/content/drive/MyDrive/10714/dl_sys_hw3/hw3/build'\n",
            "make[2]: Entering directory '/content/drive/MyDrive/10714/dl_sys_hw3/hw3/build'\n",
            "make[3]: Entering directory '/content/drive/MyDrive/10714/dl_sys_hw3/hw3/build'\n",
            "make[3]: Leaving directory '/content/drive/MyDrive/10714/dl_sys_hw3/hw3/build'\n",
            "make[3]: Entering directory '/content/drive/MyDrive/10714/dl_sys_hw3/hw3/build'\n",
            "[-25%] \u001b[32mBuilding CXX object CMakeFiles/ndarray_backend_cpu.dir/src/ndarray_backend_cpu.cc.o\u001b[0m\n",
            "\u001b[01m\u001b[K/content/drive/MyDrive/10714/dl_sys_hw3/hw3/src/ndarray_backend_cpu.cc:\u001b[m\u001b[K In function ‘\u001b[01m\u001b[Kbool needle::cpu::next_index(std::vector<int>&, const std::vector<int>&)\u001b[m\u001b[K’:\n",
            "\u001b[01m\u001b[K/content/drive/MyDrive/10714/dl_sys_hw3/hw3/src/ndarray_backend_cpu.cc:64:1:\u001b[m\u001b[K \u001b[01;35m\u001b[Kwarning: \u001b[m\u001b[Kcontrol reaches end of non-void function [\u001b[01;35m\u001b[K\u001b]8;;https://gcc.gnu.org/onlinedocs/gcc/Warning-Options.html#index-Wreturn-type\u0007-Wreturn-type\u001b]8;;\u0007\u001b[m\u001b[K]\n",
            "   64 | \u001b[01;35m\u001b[K}\u001b[m\u001b[K\n",
            "      | \u001b[01;35m\u001b[K^\u001b[m\u001b[K\n",
            "[  0%] \u001b[32m\u001b[1mLinking CXX shared module /content/drive/MyDrive/10714/dl_sys_hw3/hw3/python/needle/backend_ndarray/ndarray_backend_cpu.cpython-311-x86_64-linux-gnu.so\u001b[0m\n",
            "make[3]: Leaving directory '/content/drive/MyDrive/10714/dl_sys_hw3/hw3/build'\n",
            "[  0%] Built target ndarray_backend_cpu\n",
            "make[3]: Entering directory '/content/drive/MyDrive/10714/dl_sys_hw3/hw3/build'\n",
            "[ 25%] \u001b[34m\u001b[1mBuilding NVCC (Device) object CMakeFiles/ndarray_backend_cuda.dir/src/ndarray_backend_cuda_generated_ndarray_backend_cuda.cu.o\u001b[0m\n",
            "/content/drive/MyDrive/10714/dl_sys_hw3/hw3/src/ndarray_backend_cuda.cu(98): warning #177-D: variable \"gid\" was declared but never referenced\n",
            "    size_t gid = blockIdx.x * blockDim.x + threadIdx.x;\n",
            "           ^\n",
            "\n",
            "Remark: The warnings can be suppressed with \"-diag-suppress <warning-number>\"\n",
            "\n",
            "/usr/local/lib/python3.11/dist-packages/pybind11/include/pybind11/detail/common.h(724): error: excessive recursion at instantiation of class \"pybind11::detail::make_index_sequence_impl<13UL, 13UL, 14UL, 15UL, 16UL, 17UL, 18UL, 19UL, 20UL, 21UL, 22UL, 23UL, 24UL, 25UL, 26UL, 27UL, 28UL, 29UL, 30UL, 31UL, 32UL, 33UL, 34UL, 35UL, 36UL, 37UL, 38UL, 39UL, 40UL, 41UL, 42UL, 43UL, 44UL, 45UL, 46UL, 47UL, 48UL, 49UL, 50UL, 51UL, 52UL, 53UL, 54UL, 55UL, 56UL, 57UL, 58UL, 59UL, 60UL, 61UL, 62UL, 63UL, 64UL, 65UL, 66UL, 67UL, 68UL, 69UL, 70UL, 71UL, 72UL, 73UL, 74UL, 75UL, 76UL, 77UL, 78UL, 79UL, 80UL, 81UL, 82UL, 83UL, 84UL, 85UL, 86UL, 87UL, 88UL, 89UL, 90UL, 91UL, 92UL, 93UL, 94UL, 95UL, 96UL, 97UL, 98UL, 99UL, 100UL, 101UL, 102UL, 103UL, 104UL, 105UL, 106UL, 107UL, 108UL, 109UL, 110UL, 111UL, 112UL, 113UL, 114UL, 115UL, 116UL, 117UL, 118UL, 119UL, 120UL, 121UL, 122UL, 123UL, 124UL, 125UL, 126UL, 127UL, 128UL, 129UL, 130UL, 131UL, 132UL, 133UL, 134UL, 135UL, 136UL, 137UL, 138UL, 139UL, 140UL, 141UL, 142UL, 143UL, 144UL, 145UL, 146UL, 147UL, 148UL, 149UL, 150UL, 151UL, 152UL, 153UL, 154UL, 155UL, 156UL, 157UL, 158UL, 159UL, 160UL, 161UL, 162UL, 163UL, 164UL, 165UL, 166UL, 167UL, 168UL, 169UL, 170UL, 171UL, 172UL, 173UL, 174UL, 175UL, 176UL, 177UL, 178UL, 179UL, 180UL, 181UL, 182UL, 183UL, 184UL, 185UL, 186UL, 187UL, 188UL, 189UL, 190UL, 191UL, 192UL, 193UL, 194UL, 195UL, 196UL, 197UL, 198UL, 199UL, 200UL, 201UL, 202UL, 203UL, 204UL, 205UL, 206UL, 207UL, 208UL, 209UL, 210UL, 211UL, 212UL>\"\n",
            "  struct make_index_sequence_impl : make_index_sequence_impl<N - 1, N - 1, S...> {};\n",
            "                                    ^\n",
            "          detected during:\n",
            "            instantiation of class \"pybind11::detail::make_index_sequence_impl<N, S...> [with N=14UL, S=<14UL, 15UL, 16UL, 17UL, 18UL, 19UL, 20UL, 21UL, 22UL, 23UL, 24UL, 25UL, 26UL, 27UL, 28UL, 29UL, 30UL, 31UL, 32UL, 33UL, 34UL, 35UL, 36UL, 37UL, 38UL, 39UL, 40UL, 41UL, 42UL, 43UL, 44UL, 45UL, 46UL, 47UL, 48UL, 49UL, 50UL, 51UL, 52UL, 53UL, 54UL, 55UL, 56UL, 57UL, 58UL, 59UL, 60UL, 61UL, 62UL, 63UL, 64UL, 65UL, 66UL, 67UL, 68UL, 69UL, 70UL, 71UL, 72UL, 73UL, 74UL, 75UL, 76UL, 77UL, 78UL, 79UL, 80UL, 81UL, 82UL, 83UL, 84UL, 85UL, 86UL, 87UL, 88UL, 89UL, 90UL, 91UL, 92UL, 93UL, 94UL, 95UL, 96UL, 97UL, 98UL, 99UL, 100UL, 101UL, 102UL, 103UL, 104UL, 105UL, 106UL, 107UL, 108UL, 109UL, 110UL, 111UL, 112UL, 113UL, 114UL, 115UL, 116UL, 117UL, 118UL, 119UL, 120UL, 121UL, 122UL, 123UL, 124UL, 125UL, 126UL, 127UL, 128UL, 129UL, 130UL, 131UL, 132UL, 133UL, 134UL, 135UL, 136UL, 137UL, 138UL, 139UL, 140UL, 141UL, 142UL, 143UL, 144UL, 145UL, 146UL, 147UL, 148UL, 149UL, 150UL, 151UL, 152UL, 153UL, 154UL, 155UL, 156UL, 157UL, 158UL, 159UL, 160UL, 161UL, 162UL, 163UL, 164UL, 165UL, 166UL, 167UL, 168UL, 169UL, 170UL, 171UL, 172UL, 173UL, 174UL, 175UL, 176UL, 177UL, 178UL, 179UL, 180UL, 181UL, 182UL, 183UL, 184UL, 185UL, 186UL, 187UL, 188UL, 189UL, 190UL, 191UL, 192UL, 193UL, 194UL, 195UL, 196UL, 197UL, 198UL, 199UL, 200UL, 201UL, 202UL, 203UL, 204UL, 205UL, 206UL, 207UL, 208UL, 209UL, 210UL, 211UL, 212UL>]\" at line 724\n",
            "            instantiation of class \"pybind11::detail::make_index_sequence_impl<N, S...> [with N=15UL, S=<15UL, 16UL, 17UL, 18UL, 19UL, 20UL, 21UL, 22UL, 23UL, 24UL, 25UL, 26UL, 27UL, 28UL, 29UL, 30UL, 31UL, 32UL, 33UL, 34UL, 35UL, 36UL, 37UL, 38UL, 39UL, 40UL, 41UL, 42UL, 43UL, 44UL, 45UL, 46UL, 47UL, 48UL, 49UL, 50UL, 51UL, 52UL, 53UL, 54UL, 55UL, 56UL, 57UL, 58UL, 59UL, 60UL, 61UL, 62UL, 63UL, 64UL, 65UL, 66UL, 67UL, 68UL, 69UL, 70UL, 71UL, 72UL, 73UL, 74UL, 75UL, 76UL, 77UL, 78UL, 79UL, 80UL, 81UL, 82UL, 83UL, 84UL, 85UL, 86UL, 87UL, 88UL, 89UL, 90UL, 91UL, 92UL, 93UL, 94UL, 95UL, 96UL, 97UL, 98UL, 99UL, 100UL, 101UL, 102UL, 103UL, 104UL, 105UL, 106UL, 107UL, 108UL, 109UL, 110UL, 111UL, 112UL, 113UL, 114UL, 115UL, 116UL, 117UL, 118UL, 119UL, 120UL, 121UL, 122UL, 123UL, 124UL, 125UL, 126UL, 127UL, 128UL, 129UL, 130UL, 131UL, 132UL, 133UL, 134UL, 135UL, 136UL, 137UL, 138UL, 139UL, 140UL, 141UL, 142UL, 143UL, 144UL, 145UL, 146UL, 147UL, 148UL, 149UL, 150UL, 151UL, 152UL, 153UL, 154UL, 155UL, 156UL, 157UL, 158UL, 159UL, 160UL, 161UL, 162UL, 163UL, 164UL, 165UL, 166UL, 167UL, 168UL, 169UL, 170UL, 171UL, 172UL, 173UL, 174UL, 175UL, 176UL, 177UL, 178UL, 179UL, 180UL, 181UL, 182UL, 183UL, 184UL, 185UL, 186UL, 187UL, 188UL, 189UL, 190UL, 191UL, 192UL, 193UL, 194UL, 195UL, 196UL, 197UL, 198UL, 199UL, 200UL, 201UL, 202UL, 203UL, 204UL, 205UL, 206UL, 207UL, 208UL, 209UL, 210UL, 211UL, 212UL>]\" at line 724\n",
            "            instantiation of class \"pybind11::detail::make_index_sequence_impl<N, S...> [with N=16UL, S=<16UL, 17UL, 18UL, 19UL, 20UL, 21UL, 22UL, 23UL, 24UL, 25UL, 26UL, 27UL, 28UL, 29UL, 30UL, 31UL, 32UL, 33UL, 34UL, 35UL, 36UL, 37UL, 38UL, 39UL, 40UL, 41UL, 42UL, 43UL, 44UL, 45UL, 46UL, 47UL, 48UL, 49UL, 50UL, 51UL, 52UL, 53UL, 54UL, 55UL, 56UL, 57UL, 58UL, 59UL, 60UL, 61UL, 62UL, 63UL, 64UL, 65UL, 66UL, 67UL, 68UL, 69UL, 70UL, 71UL, 72UL, 73UL, 74UL, 75UL, 76UL, 77UL, 78UL, 79UL, 80UL, 81UL, 82UL, 83UL, 84UL, 85UL, 86UL, 87UL, 88UL, 89UL, 90UL, 91UL, 92UL, 93UL, 94UL, 95UL, 96UL, 97UL, 98UL, 99UL, 100UL, 101UL, 102UL, 103UL, 104UL, 105UL, 106UL, 107UL, 108UL, 109UL, 110UL, 111UL, 112UL, 113UL, 114UL, 115UL, 116UL, 117UL, 118UL, 119UL, 120UL, 121UL, 122UL, 123UL, 124UL, 125UL, 126UL, 127UL, 128UL, 129UL, 130UL, 131UL, 132UL, 133UL, 134UL, 135UL, 136UL, 137UL, 138UL, 139UL, 140UL, 141UL, 142UL, 143UL, 144UL, 145UL, 146UL, 147UL, 148UL, 149UL, 150UL, 151UL, 152UL, 153UL, 154UL, 155UL, 156UL, 157UL, 158UL, 159UL, 160UL, 161UL, 162UL, 163UL, 164UL, 165UL, 166UL, 167UL, 168UL, 169UL, 170UL, 171UL, 172UL, 173UL, 174UL, 175UL, 176UL, 177UL, 178UL, 179UL, 180UL, 181UL, 182UL, 183UL, 184UL, 185UL, 186UL, 187UL, 188UL, 189UL, 190UL, 191UL, 192UL, 193UL, 194UL, 195UL, 196UL, 197UL, 198UL, 199UL, 200UL, 201UL, 202UL, 203UL, 204UL, 205UL, 206UL, 207UL, 208UL, 209UL, 210UL, 211UL, 212UL>]\" at line 724\n",
            "            instantiation of class \"pybind11::detail::make_index_sequence_impl<N, S...> [with N=17UL, S=<17UL, 18UL, 19UL, 20UL, 21UL, 22UL, 23UL, 24UL, 25UL, 26UL, 27UL, 28UL, 29UL, 30UL, 31UL, 32UL, 33UL, 34UL, 35UL, 36UL, 37UL, 38UL, 39UL, 40UL, 41UL, 42UL, 43UL, 44UL, 45UL, 46UL, 47UL, 48UL, 49UL, 50UL, 51UL, 52UL, 53UL, 54UL, 55UL, 56UL, 57UL, 58UL, 59UL, 60UL, 61UL, 62UL, 63UL, 64UL, 65UL, 66UL, 67UL, 68UL, 69UL, 70UL, 71UL, 72UL, 73UL, 74UL, 75UL, 76UL, 77UL, 78UL, 79UL, 80UL, 81UL, 82UL, 83UL, 84UL, 85UL, 86UL, 87UL, 88UL, 89UL, 90UL, 91UL, 92UL, 93UL, 94UL, 95UL, 96UL, 97UL, 98UL, 99UL, 100UL, 101UL, 102UL, 103UL, 104UL, 105UL, 106UL, 107UL, 108UL, 109UL, 110UL, 111UL, 112UL, 113UL, 114UL, 115UL, 116UL, 117UL, 118UL, 119UL, 120UL, 121UL, 122UL, 123UL, 124UL, 125UL, 126UL, 127UL, 128UL, 129UL, 130UL, 131UL, 132UL, 133UL, 134UL, 135UL, 136UL, 137UL, 138UL, 139UL, 140UL, 141UL, 142UL, 143UL, 144UL, 145UL, 146UL, 147UL, 148UL, 149UL, 150UL, 151UL, 152UL, 153UL, 154UL, 155UL, 156UL, 157UL, 158UL, 159UL, 160UL, 161UL, 162UL, 163UL, 164UL, 165UL, 166UL, 167UL, 168UL, 169UL, 170UL, 171UL, 172UL, 173UL, 174UL, 175UL, 176UL, 177UL, 178UL, 179UL, 180UL, 181UL, 182UL, 183UL, 184UL, 185UL, 186UL, 187UL, 188UL, 189UL, 190UL, 191UL, 192UL, 193UL, 194UL, 195UL, 196UL, 197UL, 198UL, 199UL, 200UL, 201UL, 202UL, 203UL, 204UL, 205UL, 206UL, 207UL, 208UL, 209UL, 210UL, 211UL, 212UL>]\" at line 724\n",
            "            instantiation of class \"pybind11::detail::make_index_sequence_impl<N, S...> [with N=18UL, S=<18UL, 19UL, 20UL, 21UL, 22UL, 23UL, 24UL, 25UL, 26UL, 27UL, 28UL, 29UL, 30UL, 31UL, 32UL, 33UL, 34UL, 35UL, 36UL, 37UL, 38UL, 39UL, 40UL, 41UL, 42UL, 43UL, 44UL, 45UL, 46UL, 47UL, 48UL, 49UL, 50UL, 51UL, 52UL, 53UL, 54UL, 55UL, 56UL, 57UL, 58UL, 59UL, 60UL, 61UL, 62UL, 63UL, 64UL, 65UL, 66UL, 67UL, 68UL, 69UL, 70UL, 71UL, 72UL, 73UL, 74UL, 75UL, 76UL, 77UL, 78UL, 79UL, 80UL, 81UL, 82UL, 83UL, 84UL, 85UL, 86UL, 87UL, 88UL, 89UL, 90UL, 91UL, 92UL, 93UL, 94UL, 95UL, 96UL, 97UL, 98UL, 99UL, 100UL, 101UL, 102UL, 103UL, 104UL, 105UL, 106UL, 107UL, 108UL, 109UL, 110UL, 111UL, 112UL, 113UL, 114UL, 115UL, 116UL, 117UL, 118UL, 119UL, 120UL, 121UL, 122UL, 123UL, 124UL, 125UL, 126UL, 127UL, 128UL, 129UL, 130UL, 131UL, 132UL, 133UL, 134UL, 135UL, 136UL, 137UL, 138UL, 139UL, 140UL, 141UL, 142UL, 143UL, 144UL, 145UL, 146UL, 147UL, 148UL, 149UL, 150UL, 151UL, 152UL, 153UL, 154UL, 155UL, 156UL, 157UL, 158UL, 159UL, 160UL, 161UL, 162UL, 163UL, 164UL, 165UL, 166UL, 167UL, 168UL, 169UL, 170UL, 171UL, 172UL, 173UL, 174UL, 175UL, 176UL, 177UL, 178UL, 179UL, 180UL, 181UL, 182UL, 183UL, 184UL, 185UL, 186UL, 187UL, 188UL, 189UL, 190UL, 191UL, 192UL, 193UL, 194UL, 195UL, 196UL, 197UL, 198UL, 199UL, 200UL, 201UL, 202UL, 203UL, 204UL, 205UL, 206UL, 207UL, 208UL, 209UL, 210UL, 211UL, 212UL>]\" at line 724\n",
            "            [ 195 instantiation contexts not shown ]\n",
            "            instantiation of type \"pybind11::detail::make_index_sequence<213UL>\" at line 56 of /usr/local/lib/python3.11/dist-packages/pybind11/include/pybind11/detail/descr.h\n",
            "            instantiation of \"pybind11::detail::descr<<expression>, Ts1..., Ts2...> pybind11::detail::operator+(const pybind11::detail::descr<N1, Ts1...> &, const pybind11::detail::descr<N2, Ts2...> &) [with N1=1UL, N2=213UL, Ts1=<>, Ts2=<needle::cuda::CudaArray>]\" at line 485 of /usr/local/lib/python3.11/dist-packages/pybind11/include/pybind11/pybind11.h\n",
            "            instantiation of \"void pybind11::cpp_function::initialize(Func &&, Return (*)(Args...), const Extra &...) [with Func=void (*&)(size_t, needle::cuda::scalar_t, needle::cuda::CudaArray *, std::vector<int32_t, std::allocator<int32_t>>, std::vector<int32_t, std::allocator<int32_t>>, size_t), Return=void, Args=<size_t, needle::cuda::scalar_t, needle::cuda::CudaArray *, std::vector<int32_t, std::allocator<int32_t>>, std::vector<int32_t, std::allocator<int32_t>>, size_t>, Extra=<pybind11::name, pybind11::scope, pybind11::sibling>]\" at line 265 of /usr/local/lib/python3.11/dist-packages/pybind11/include/pybind11/pybind11.h\n",
            "            instantiation of \"pybind11::cpp_function::cpp_function(Return (*)(Args...), const Extra &...) [with Return=void, Args=<size_t, needle::cuda::scalar_t, needle::cuda::CudaArray *, std::vector<int32_t, std::allocator<int32_t>>, std::vector<int32_t, std::allocator<int32_t>>, size_t>, Extra=<pybind11::name, pybind11::scope, pybind11::sibling>]\" at line 1384 of /usr/local/lib/python3.11/dist-packages/pybind11/include/pybind11/pybind11.h\n",
            "            instantiation of \"pybind11::module_ &pybind11::module_::def(const char *, Func &&, const Extra &...) [with Func=void (&)(size_t, needle::cuda::scalar_t, needle::cuda::CudaArray *, std::vector<int32_t, std::allocator<int32_t>>, std::vector<int32_t, std::allocator<int32_t>>, size_t), Extra=<>]\" at line 352 of /content/drive/MyDrive/10714/dl_sys_hw3/hw3/src/ndarray_backend_cuda.cu\n",
            "\n",
            "/usr/local/lib/python3.11/dist-packages/pybind11/include/pybind11/detail/common.h(724): error: incomplete type \"pybind11::detail::make_index_sequence_impl<13UL, 13UL, 14UL, 15UL, 16UL, 17UL, 18UL, 19UL, 20UL, 21UL, 22UL, 23UL, 24UL, 25UL, 26UL, 27UL, 28UL, 29UL, 30UL, 31UL, 32UL, 33UL, 34UL, 35UL, 36UL, 37UL, 38UL, 39UL, 40UL, 41UL, 42UL, 43UL, 44UL, 45UL, 46UL, 47UL, 48UL, 49UL, 50UL, 51UL, 52UL, 53UL, 54UL, 55UL, 56UL, 57UL, 58UL, 59UL, 60UL, 61UL, 62UL, 63UL, 64UL, 65UL, 66UL, 67UL, 68UL, 69UL, 70UL, 71UL, 72UL, 73UL, 74UL, 75UL, 76UL, 77UL, 78UL, 79UL, 80UL, 81UL, 82UL, 83UL, 84UL, 85UL, 86UL, 87UL, 88UL, 89UL, 90UL, 91UL, 92UL, 93UL, 94UL, 95UL, 96UL, 97UL, 98UL, 99UL, 100UL, 101UL, 102UL, 103UL, 104UL, 105UL, 106UL, 107UL, 108UL, 109UL, 110UL, 111UL, 112UL, 113UL, 114UL, 115UL, 116UL, 117UL, 118UL, 119UL, 120UL, 121UL, 122UL, 123UL, 124UL, 125UL, 126UL, 127UL, 128UL, 129UL, 130UL, 131UL, 132UL, 133UL, 134UL, 135UL, 136UL, 137UL, 138UL, 139UL, 140UL, 141UL, 142UL, 143UL, 144UL, 145UL, 146UL, 147UL, 148UL, 149UL, 150UL, 151UL, 152UL, 153UL, 154UL, 155UL, 156UL, 157UL, 158UL, 159UL, 160UL, 161UL, 162UL, 163UL, 164UL, 165UL, 166UL, 167UL, 168UL, 169UL, 170UL, 171UL, 172UL, 173UL, 174UL, 175UL, 176UL, 177UL, 178UL, 179UL, 180UL, 181UL, 182UL, 183UL, 184UL, 185UL, 186UL, 187UL, 188UL, 189UL, 190UL, 191UL, 192UL, 193UL, 194UL, 195UL, 196UL, 197UL, 198UL, 199UL, 200UL, 201UL, 202UL, 203UL, 204UL, 205UL, 206UL, 207UL, 208UL, 209UL, 210UL, 211UL, 212UL>\" is not allowed\n",
            "  struct make_index_sequence_impl : make_index_sequence_impl<N - 1, N - 1, S...> {};\n",
            "                                    ^\n",
            "          detected during:\n",
            "            instantiation of class \"pybind11::detail::make_index_sequence_impl<N, S...> [with N=14UL, S=<14UL, 15UL, 16UL, 17UL, 18UL, 19UL, 20UL, 21UL, 22UL, 23UL, 24UL, 25UL, 26UL, 27UL, 28UL, 29UL, 30UL, 31UL, 32UL, 33UL, 34UL, 35UL, 36UL, 37UL, 38UL, 39UL, 40UL, 41UL, 42UL, 43UL, 44UL, 45UL, 46UL, 47UL, 48UL, 49UL, 50UL, 51UL, 52UL, 53UL, 54UL, 55UL, 56UL, 57UL, 58UL, 59UL, 60UL, 61UL, 62UL, 63UL, 64UL, 65UL, 66UL, 67UL, 68UL, 69UL, 70UL, 71UL, 72UL, 73UL, 74UL, 75UL, 76UL, 77UL, 78UL, 79UL, 80UL, 81UL, 82UL, 83UL, 84UL, 85UL, 86UL, 87UL, 88UL, 89UL, 90UL, 91UL, 92UL, 93UL, 94UL, 95UL, 96UL, 97UL, 98UL, 99UL, 100UL, 101UL, 102UL, 103UL, 104UL, 105UL, 106UL, 107UL, 108UL, 109UL, 110UL, 111UL, 112UL, 113UL, 114UL, 115UL, 116UL, 117UL, 118UL, 119UL, 120UL, 121UL, 122UL, 123UL, 124UL, 125UL, 126UL, 127UL, 128UL, 129UL, 130UL, 131UL, 132UL, 133UL, 134UL, 135UL, 136UL, 137UL, 138UL, 139UL, 140UL, 141UL, 142UL, 143UL, 144UL, 145UL, 146UL, 147UL, 148UL, 149UL, 150UL, 151UL, 152UL, 153UL, 154UL, 155UL, 156UL, 157UL, 158UL, 159UL, 160UL, 161UL, 162UL, 163UL, 164UL, 165UL, 166UL, 167UL, 168UL, 169UL, 170UL, 171UL, 172UL, 173UL, 174UL, 175UL, 176UL, 177UL, 178UL, 179UL, 180UL, 181UL, 182UL, 183UL, 184UL, 185UL, 186UL, 187UL, 188UL, 189UL, 190UL, 191UL, 192UL, 193UL, 194UL, 195UL, 196UL, 197UL, 198UL, 199UL, 200UL, 201UL, 202UL, 203UL, 204UL, 205UL, 206UL, 207UL, 208UL, 209UL, 210UL, 211UL, 212UL>]\" at line 724\n",
            "            instantiation of class \"pybind11::detail::make_index_sequence_impl<N, S...> [with N=15UL, S=<15UL, 16UL, 17UL, 18UL, 19UL, 20UL, 21UL, 22UL, 23UL, 24UL, 25UL, 26UL, 27UL, 28UL, 29UL, 30UL, 31UL, 32UL, 33UL, 34UL, 35UL, 36UL, 37UL, 38UL, 39UL, 40UL, 41UL, 42UL, 43UL, 44UL, 45UL, 46UL, 47UL, 48UL, 49UL, 50UL, 51UL, 52UL, 53UL, 54UL, 55UL, 56UL, 57UL, 58UL, 59UL, 60UL, 61UL, 62UL, 63UL, 64UL, 65UL, 66UL, 67UL, 68UL, 69UL, 70UL, 71UL, 72UL, 73UL, 74UL, 75UL, 76UL, 77UL, 78UL, 79UL, 80UL, 81UL, 82UL, 83UL, 84UL, 85UL, 86UL, 87UL, 88UL, 89UL, 90UL, 91UL, 92UL, 93UL, 94UL, 95UL, 96UL, 97UL, 98UL, 99UL, 100UL, 101UL, 102UL, 103UL, 104UL, 105UL, 106UL, 107UL, 108UL, 109UL, 110UL, 111UL, 112UL, 113UL, 114UL, 115UL, 116UL, 117UL, 118UL, 119UL, 120UL, 121UL, 122UL, 123UL, 124UL, 125UL, 126UL, 127UL, 128UL, 129UL, 130UL, 131UL, 132UL, 133UL, 134UL, 135UL, 136UL, 137UL, 138UL, 139UL, 140UL, 141UL, 142UL, 143UL, 144UL, 145UL, 146UL, 147UL, 148UL, 149UL, 150UL, 151UL, 152UL, 153UL, 154UL, 155UL, 156UL, 157UL, 158UL, 159UL, 160UL, 161UL, 162UL, 163UL, 164UL, 165UL, 166UL, 167UL, 168UL, 169UL, 170UL, 171UL, 172UL, 173UL, 174UL, 175UL, 176UL, 177UL, 178UL, 179UL, 180UL, 181UL, 182UL, 183UL, 184UL, 185UL, 186UL, 187UL, 188UL, 189UL, 190UL, 191UL, 192UL, 193UL, 194UL, 195UL, 196UL, 197UL, 198UL, 199UL, 200UL, 201UL, 202UL, 203UL, 204UL, 205UL, 206UL, 207UL, 208UL, 209UL, 210UL, 211UL, 212UL>]\" at line 724\n",
            "            instantiation of class \"pybind11::detail::make_index_sequence_impl<N, S...> [with N=16UL, S=<16UL, 17UL, 18UL, 19UL, 20UL, 21UL, 22UL, 23UL, 24UL, 25UL, 26UL, 27UL, 28UL, 29UL, 30UL, 31UL, 32UL, 33UL, 34UL, 35UL, 36UL, 37UL, 38UL, 39UL, 40UL, 41UL, 42UL, 43UL, 44UL, 45UL, 46UL, 47UL, 48UL, 49UL, 50UL, 51UL, 52UL, 53UL, 54UL, 55UL, 56UL, 57UL, 58UL, 59UL, 60UL, 61UL, 62UL, 63UL, 64UL, 65UL, 66UL, 67UL, 68UL, 69UL, 70UL, 71UL, 72UL, 73UL, 74UL, 75UL, 76UL, 77UL, 78UL, 79UL, 80UL, 81UL, 82UL, 83UL, 84UL, 85UL, 86UL, 87UL, 88UL, 89UL, 90UL, 91UL, 92UL, 93UL, 94UL, 95UL, 96UL, 97UL, 98UL, 99UL, 100UL, 101UL, 102UL, 103UL, 104UL, 105UL, 106UL, 107UL, 108UL, 109UL, 110UL, 111UL, 112UL, 113UL, 114UL, 115UL, 116UL, 117UL, 118UL, 119UL, 120UL, 121UL, 122UL, 123UL, 124UL, 125UL, 126UL, 127UL, 128UL, 129UL, 130UL, 131UL, 132UL, 133UL, 134UL, 135UL, 136UL, 137UL, 138UL, 139UL, 140UL, 141UL, 142UL, 143UL, 144UL, 145UL, 146UL, 147UL, 148UL, 149UL, 150UL, 151UL, 152UL, 153UL, 154UL, 155UL, 156UL, 157UL, 158UL, 159UL, 160UL, 161UL, 162UL, 163UL, 164UL, 165UL, 166UL, 167UL, 168UL, 169UL, 170UL, 171UL, 172UL, 173UL, 174UL, 175UL, 176UL, 177UL, 178UL, 179UL, 180UL, 181UL, 182UL, 183UL, 184UL, 185UL, 186UL, 187UL, 188UL, 189UL, 190UL, 191UL, 192UL, 193UL, 194UL, 195UL, 196UL, 197UL, 198UL, 199UL, 200UL, 201UL, 202UL, 203UL, 204UL, 205UL, 206UL, 207UL, 208UL, 209UL, 210UL, 211UL, 212UL>]\" at line 724\n",
            "            instantiation of class \"pybind11::detail::make_index_sequence_impl<N, S...> [with N=17UL, S=<17UL, 18UL, 19UL, 20UL, 21UL, 22UL, 23UL, 24UL, 25UL, 26UL, 27UL, 28UL, 29UL, 30UL, 31UL, 32UL, 33UL, 34UL, 35UL, 36UL, 37UL, 38UL, 39UL, 40UL, 41UL, 42UL, 43UL, 44UL, 45UL, 46UL, 47UL, 48UL, 49UL, 50UL, 51UL, 52UL, 53UL, 54UL, 55UL, 56UL, 57UL, 58UL, 59UL, 60UL, 61UL, 62UL, 63UL, 64UL, 65UL, 66UL, 67UL, 68UL, 69UL, 70UL, 71UL, 72UL, 73UL, 74UL, 75UL, 76UL, 77UL, 78UL, 79UL, 80UL, 81UL, 82UL, 83UL, 84UL, 85UL, 86UL, 87UL, 88UL, 89UL, 90UL, 91UL, 92UL, 93UL, 94UL, 95UL, 96UL, 97UL, 98UL, 99UL, 100UL, 101UL, 102UL, 103UL, 104UL, 105UL, 106UL, 107UL, 108UL, 109UL, 110UL, 111UL, 112UL, 113UL, 114UL, 115UL, 116UL, 117UL, 118UL, 119UL, 120UL, 121UL, 122UL, 123UL, 124UL, 125UL, 126UL, 127UL, 128UL, 129UL, 130UL, 131UL, 132UL, 133UL, 134UL, 135UL, 136UL, 137UL, 138UL, 139UL, 140UL, 141UL, 142UL, 143UL, 144UL, 145UL, 146UL, 147UL, 148UL, 149UL, 150UL, 151UL, 152UL, 153UL, 154UL, 155UL, 156UL, 157UL, 158UL, 159UL, 160UL, 161UL, 162UL, 163UL, 164UL, 165UL, 166UL, 167UL, 168UL, 169UL, 170UL, 171UL, 172UL, 173UL, 174UL, 175UL, 176UL, 177UL, 178UL, 179UL, 180UL, 181UL, 182UL, 183UL, 184UL, 185UL, 186UL, 187UL, 188UL, 189UL, 190UL, 191UL, 192UL, 193UL, 194UL, 195UL, 196UL, 197UL, 198UL, 199UL, 200UL, 201UL, 202UL, 203UL, 204UL, 205UL, 206UL, 207UL, 208UL, 209UL, 210UL, 211UL, 212UL>]\" at line 724\n",
            "            instantiation of class \"pybind11::detail::make_index_sequence_impl<N, S...> [with N=18UL, S=<18UL, 19UL, 20UL, 21UL, 22UL, 23UL, 24UL, 25UL, 26UL, 27UL, 28UL, 29UL, 30UL, 31UL, 32UL, 33UL, 34UL, 35UL, 36UL, 37UL, 38UL, 39UL, 40UL, 41UL, 42UL, 43UL, 44UL, 45UL, 46UL, 47UL, 48UL, 49UL, 50UL, 51UL, 52UL, 53UL, 54UL, 55UL, 56UL, 57UL, 58UL, 59UL, 60UL, 61UL, 62UL, 63UL, 64UL, 65UL, 66UL, 67UL, 68UL, 69UL, 70UL, 71UL, 72UL, 73UL, 74UL, 75UL, 76UL, 77UL, 78UL, 79UL, 80UL, 81UL, 82UL, 83UL, 84UL, 85UL, 86UL, 87UL, 88UL, 89UL, 90UL, 91UL, 92UL, 93UL, 94UL, 95UL, 96UL, 97UL, 98UL, 99UL, 100UL, 101UL, 102UL, 103UL, 104UL, 105UL, 106UL, 107UL, 108UL, 109UL, 110UL, 111UL, 112UL, 113UL, 114UL, 115UL, 116UL, 117UL, 118UL, 119UL, 120UL, 121UL, 122UL, 123UL, 124UL, 125UL, 126UL, 127UL, 128UL, 129UL, 130UL, 131UL, 132UL, 133UL, 134UL, 135UL, 136UL, 137UL, 138UL, 139UL, 140UL, 141UL, 142UL, 143UL, 144UL, 145UL, 146UL, 147UL, 148UL, 149UL, 150UL, 151UL, 152UL, 153UL, 154UL, 155UL, 156UL, 157UL, 158UL, 159UL, 160UL, 161UL, 162UL, 163UL, 164UL, 165UL, 166UL, 167UL, 168UL, 169UL, 170UL, 171UL, 172UL, 173UL, 174UL, 175UL, 176UL, 177UL, 178UL, 179UL, 180UL, 181UL, 182UL, 183UL, 184UL, 185UL, 186UL, 187UL, 188UL, 189UL, 190UL, 191UL, 192UL, 193UL, 194UL, 195UL, 196UL, 197UL, 198UL, 199UL, 200UL, 201UL, 202UL, 203UL, 204UL, 205UL, 206UL, 207UL, 208UL, 209UL, 210UL, 211UL, 212UL>]\" at line 724\n",
            "            [ 195 instantiation contexts not shown ]\n",
            "            instantiation of type \"pybind11::detail::make_index_sequence<213UL>\" at line 56 of /usr/local/lib/python3.11/dist-packages/pybind11/include/pybind11/detail/descr.h\n",
            "            instantiation of \"pybind11::detail::descr<<expression>, Ts1..., Ts2...> pybind11::detail::operator+(const pybind11::detail::descr<N1, Ts1...> &, const pybind11::detail::descr<N2, Ts2...> &) [with N1=1UL, N2=213UL, Ts1=<>, Ts2=<needle::cuda::CudaArray>]\" at line 485 of /usr/local/lib/python3.11/dist-packages/pybind11/include/pybind11/pybind11.h\n",
            "            instantiation of \"void pybind11::cpp_function::initialize(Func &&, Return (*)(Args...), const Extra &...) [with Func=void (*&)(size_t, needle::cuda::scalar_t, needle::cuda::CudaArray *, std::vector<int32_t, std::allocator<int32_t>>, std::vector<int32_t, std::allocator<int32_t>>, size_t), Return=void, Args=<size_t, needle::cuda::scalar_t, needle::cuda::CudaArray *, std::vector<int32_t, std::allocator<int32_t>>, std::vector<int32_t, std::allocator<int32_t>>, size_t>, Extra=<pybind11::name, pybind11::scope, pybind11::sibling>]\" at line 265 of /usr/local/lib/python3.11/dist-packages/pybind11/include/pybind11/pybind11.h\n",
            "            instantiation of \"pybind11::cpp_function::cpp_function(Return (*)(Args...), const Extra &...) [with Return=void, Args=<size_t, needle::cuda::scalar_t, needle::cuda::CudaArray *, std::vector<int32_t, std::allocator<int32_t>>, std::vector<int32_t, std::allocator<int32_t>>, size_t>, Extra=<pybind11::name, pybind11::scope, pybind11::sibling>]\" at line 1384 of /usr/local/lib/python3.11/dist-packages/pybind11/include/pybind11/pybind11.h\n",
            "            instantiation of \"pybind11::module_ &pybind11::module_::def(const char *, Func &&, const Extra &...) [with Func=void (&)(size_t, needle::cuda::scalar_t, needle::cuda::CudaArray *, std::vector<int32_t, std::allocator<int32_t>>, std::vector<int32_t, std::allocator<int32_t>>, size_t), Extra=<>]\" at line 352 of /content/drive/MyDrive/10714/dl_sys_hw3/hw3/src/ndarray_backend_cuda.cu\n",
            "\n",
            "/usr/local/lib/python3.11/dist-packages/pybind11/include/pybind11/detail/common.h(730): error: class \"pybind11::detail::make_index_sequence_impl<213UL>\" has no member \"type\"\n",
            "  using make_index_sequence = typename make_index_sequence_impl<N>::type;\n",
            "                                                                    ^\n",
            "          detected during:\n",
            "            instantiation of type \"pybind11::detail::make_index_sequence<213UL>\" at line 56 of /usr/local/lib/python3.11/dist-packages/pybind11/include/pybind11/detail/descr.h\n",
            "            instantiation of \"pybind11::detail::descr<<expression>, Ts1..., Ts2...> pybind11::detail::operator+(const pybind11::detail::descr<N1, Ts1...> &, const pybind11::detail::descr<N2, Ts2...> &) [with N1=1UL, N2=213UL, Ts1=<>, Ts2=<needle::cuda::CudaArray>]\" at line 485 of /usr/local/lib/python3.11/dist-packages/pybind11/include/pybind11/pybind11.h\n",
            "            instantiation of \"void pybind11::cpp_function::initialize(Func &&, Return (*)(Args...), const Extra &...) [with Func=void (*&)(size_t, needle::cuda::scalar_t, needle::cuda::CudaArray *, std::vector<int32_t, std::allocator<int32_t>>, std::vector<int32_t, std::allocator<int32_t>>, size_t), Return=void, Args=<size_t, needle::cuda::scalar_t, needle::cuda::CudaArray *, std::vector<int32_t, std::allocator<int32_t>>, std::vector<int32_t, std::allocator<int32_t>>, size_t>, Extra=<pybind11::name, pybind11::scope, pybind11::sibling>]\" at line 265 of /usr/local/lib/python3.11/dist-packages/pybind11/include/pybind11/pybind11.h\n",
            "            instantiation of \"pybind11::cpp_function::cpp_function(Return (*)(Args...), const Extra &...) [with Return=void, Args=<size_t, needle::cuda::scalar_t, needle::cuda::CudaArray *, std::vector<int32_t, std::allocator<int32_t>>, std::vector<int32_t, std::allocator<int32_t>>, size_t>, Extra=<pybind11::name, pybind11::scope, pybind11::sibling>]\" at line 1384 of /usr/local/lib/python3.11/dist-packages/pybind11/include/pybind11/pybind11.h\n",
            "            instantiation of \"pybind11::module_ &pybind11::module_::def(const char *, Func &&, const Extra &...) [with Func=void (&)(size_t, needle::cuda::scalar_t, needle::cuda::CudaArray *, std::vector<int32_t, std::allocator<int32_t>>, std::vector<int32_t, std::allocator<int32_t>>, size_t), Extra=<>]\" at line 352 of /content/drive/MyDrive/10714/dl_sys_hw3/hw3/src/ndarray_backend_cuda.cu\n",
            "\n",
            "/usr/local/lib/python3.11/dist-packages/pybind11/include/pybind11/detail/descr.h(56): error: no instance of function template \"pybind11::detail::plus_impl\" matches the argument list\n",
            "            argument types are: (const pybind11::detail::descr<1UL>, const pybind11::detail::descr<213UL, needle::cuda::CudaArray>, pybind11::detail::index_sequence<0UL>, <error-type>)\n",
            "      return plus_impl(a, b, make_index_sequence<N1>(), make_index_sequence<N2>());\n",
            "             ^\n",
            "/usr/local/lib/python3.11/dist-packages/pybind11/include/pybind11/detail/descr.h(45): note #3327-D: candidate function template \"pybind11::detail::plus_impl\" failed deduction\n",
            "  constexpr descr<N1 + N2, Ts1..., Ts2...> plus_impl(const descr<N1, Ts1...> &a,\n",
            "                                           ^\n",
            "          detected during:\n",
            "            instantiation of \"pybind11::detail::descr<<expression>, Ts1..., Ts2...> pybind11::detail::operator+(const pybind11::detail::descr<N1, Ts1...> &, const pybind11::detail::descr<N2, Ts2...> &) [with N1=1UL, N2=213UL, Ts1=<>, Ts2=<needle::cuda::CudaArray>]\" at line 485 of /usr/local/lib/python3.11/dist-packages/pybind11/include/pybind11/pybind11.h\n",
            "            instantiation of \"void pybind11::cpp_function::initialize(Func &&, Return (*)(Args...), const Extra &...) [with Func=void (*&)(size_t, needle::cuda::scalar_t, needle::cuda::CudaArray *, std::vector<int32_t, std::allocator<int32_t>>, std::vector<int32_t, std::allocator<int32_t>>, size_t), Return=void, Args=<size_t, needle::cuda::scalar_t, needle::cuda::CudaArray *, std::vector<int32_t, std::allocator<int32_t>>, std::vector<int32_t, std::allocator<int32_t>>, size_t>, Extra=<pybind11::name, pybind11::scope, pybind11::sibling>]\" at line 265 of /usr/local/lib/python3.11/dist-packages/pybind11/include/pybind11/pybind11.h\n",
            "            instantiation of \"pybind11::cpp_function::cpp_function(Return (*)(Args...), const Extra &...) [with Return=void, Args=<size_t, needle::cuda::scalar_t, needle::cuda::CudaArray *, std::vector<int32_t, std::allocator<int32_t>>, std::vector<int32_t, std::allocator<int32_t>>, size_t>, Extra=<pybind11::name, pybind11::scope, pybind11::sibling>]\" at line 1384 of /usr/local/lib/python3.11/dist-packages/pybind11/include/pybind11/pybind11.h\n",
            "            instantiation of \"pybind11::module_ &pybind11::module_::def(const char *, Func &&, const Extra &...) [with Func=void (&)(size_t, needle::cuda::scalar_t, needle::cuda::CudaArray *, std::vector<int32_t, std::allocator<int32_t>>, std::vector<int32_t, std::allocator<int32_t>>, size_t), Extra=<>]\" at line 352 of /content/drive/MyDrive/10714/dl_sys_hw3/hw3/src/ndarray_backend_cuda.cu\n",
            "\n",
            "4 errors detected in the compilation of \"/content/drive/MyDrive/10714/dl_sys_hw3/hw3/src/ndarray_backend_cuda.cu\".\n",
            "\u001b[31mCMake Error at ndarray_backend_cuda_generated_ndarray_backend_cuda.cu.o.cmake:280 (message):\n",
            "  Error generating file\n",
            "  /content/drive/MyDrive/10714/dl_sys_hw3/hw3/build/CMakeFiles/ndarray_backend_cuda.dir/src/./ndarray_backend_cuda_generated_ndarray_backend_cuda.cu.o\n",
            "\n",
            "\u001b[0m\n",
            "make[3]: *** [CMakeFiles/ndarray_backend_cuda.dir/build.make:77: CMakeFiles/ndarray_backend_cuda.dir/src/ndarray_backend_cuda_generated_ndarray_backend_cuda.cu.o] Error 1\n",
            "make[3]: Leaving directory '/content/drive/MyDrive/10714/dl_sys_hw3/hw3/build'\n",
            "make[2]: *** [CMakeFiles/Makefile2:121: CMakeFiles/ndarray_backend_cuda.dir/all] Error 2\n",
            "make[2]: Leaving directory '/content/drive/MyDrive/10714/dl_sys_hw3/hw3/build'\n",
            "make[1]: *** [Makefile:91: all] Error 2\n",
            "make[1]: Leaving directory '/content/drive/MyDrive/10714/dl_sys_hw3/hw3/build'\n",
            "make: *** [Makefile:9: lib] Error 2\n"
          ]
        }
      ],
      "execution_count": 7
    },
    {
      "cell_type": "markdown",
      "id": "a9ae72a5",
      "metadata": {
        "id": "a9ae72a5"
      },
      "source": [
        "# make 命令\n",
        "\n",
        "`make`命令会读取当前目录下的`Makefile`文件。`Makefile`包含了用于定义如何构建目标（如可执行文件或库）的规则。\n",
        "\n",
        "对于`Makefile`中指定的每个目标，`make`会检查目标文件及其依赖项（如`.c`、`.cpp`或`.h`文件）的时间戳。如果任何依赖项最近被修改过，则必须重新构建该目标。"
      ]
    },
    {
      "cell_type": "code",
      "metadata": {
        "id": "4651212108f2b8a8",
        "ExecuteTime": {
          "end_time": "2025-08-15T15:25:38.941161Z",
          "start_time": "2025-08-15T15:25:38.935660Z"
        },
        "outputId": "b65d7a68-4dc1-46df-ebbf-de58501902b4",
        "colab": {
          "base_uri": "https://localhost:8080/"
        }
      },
      "source": [
        "%set_env PYTHONPATH ./python\n",
        "%set_env NEEDLE_BACKEND nd"
      ],
      "id": "4651212108f2b8a8",
      "outputs": [
        {
          "output_type": "stream",
          "name": "stdout",
          "text": [
            "env: PYTHONPATH=./python\n",
            "env: NEEDLE_BACKEND=nd\n"
          ]
        }
      ],
      "execution_count": 8
    },
    {
      "cell_type": "code",
      "metadata": {
        "id": "82c9ce2aa6e2ed54",
        "ExecuteTime": {
          "end_time": "2025-08-16T14:37:49.746003Z",
          "start_time": "2025-08-16T14:37:49.737226Z"
        }
      },
      "source": [
        "import sys\n",
        "sys.path.append('./python')"
      ],
      "id": "82c9ce2aa6e2ed54",
      "outputs": [],
      "execution_count": 9
    },
    {
      "cell_type": "markdown",
      "metadata": {
        "id": "9c56d0eeed747178"
      },
      "source": [
        "### 熟悉 NDArray 类\n",
        "\n",
        "开始本作业时，你首先需要熟悉我们提供的 NDArray.py 类，它是本作业的起点。这段代码相当简洁（约 500 行，但其中很多是你将要实现的函数的注释）。\n",
        "\n",
        "NDArray 类的核心是一个 Python 包装器，用于处理通用 n 维数组的运算。回想一下，几乎任何此类数组在内部都会存储为浮点值向量，即：\n",
        "float data[size];\n",
        "而对数组不同维度的实际访问则由其他字段（如数组形状、步长等）处理，这些字段指示了这个“扁平”数组如何映射到 n 维结构。为了达到合理的速度，“原始”运算（如加法、二元运算，以及更结构化的运算如矩阵乘法等）都需要在某种程度上用 C++ 等原生语言编写（包括调用 CUDA 等）。但很多运算，如转置、广播、矩阵子集化等，都可以通过调整数组的高级结构（如步长）来处理。\n",
        "\n",
        "NDArray 类的设计理念是，所有处理数组结构的逻辑都用 Python 编写。只有真正执行扁平向量底层原始运算的低级代码（以及管理这些扁平向量的代码，因为它们可能需要在 GPU 上分配等）才用 C++ 编写。这种分离的具体性质可能在你完成作业的过程中会逐渐清晰，但一般来说，所有能在 Python 中完成的工作都在 Python 中完成；通常，例如，为了使底层 C++ 实现更简单，我们会大量调用.compact()（它会复制内存），这可能会带来一些效率损失。\n",
        "\n",
        "更详细地说，NDArray 类中有五个字段需要你熟悉（注意，所有这些字段的实际类成员都带有下划线前缀，例如_handle、_strides 等，其中一些会作为公共属性暴露……在你的所有代码中，使用带下划线的内部版本是没问题的）。\n",
        "\n",
        "- device：BackendDevice 类型的对象，它是一个简单的包装器，包含指向底层设备后端（如 CPU 或 CUDA）的链接。\n",
        "- handle：存储数组底层内存的类对象。它被分配为 device.Array() 类型的类，不过这种分配都在提供的代码中（特别是 NDArray.make 函数）完成，你无需担心自己调用它。\n",
        "- shape：一个元组，指定数组每个维度的大小。\n",
        "- strides：一个元组，指定数组每个维度的步长。\n",
        "- offset：一个整数，指示数组在底层 device.Array 内存中的实际起始位置（存储这个值很方便，这样我们可以更容易地管理指向现有内存的指针，而无需跟踪分配情况）。\n",
        "\n",
        "通过操作这些字段，即使是纯 Python 代码也能执行许多所需的数组运算，如维度置换（即转置）、广播等。然后，对于原始数组操作调用，device 类有许多方法（用 C++ 实现）包含必要的实现。\n",
        "\n",
        "有几点需要注意：\n",
        "\n",
        "在内部，该类可以使用任何高效的方式对数据数组进行操作作为“设备”后端。例如，即使是 numpy 数组，我们也不是实际使用 numpy.ndarray 来表示 n 维数组，而是仅在 numpy 中表示一个“扁平”的 1D 数组，然后调用相关的 numpy 方法来实现所有需要的运算符对这个原始内存进行操作。这正是我们在 ndarray_backend_numpy.py 文件中所做的，它本质上提供了一个“存根引用”，所有操作都使用 numpy 完成。你可以使用这个类来帮助你更好地调试自己为“原生”CPU 和 GPU 后端编写的“真实”实现。\n",
        "\n",
        "对于你的许多 Python 实现来说，NDArray.make 调用尤为重要：\n",
        "def make(shape, strides=None, device=None, handle=None, offset=0):\n",
        "该函数创建一个具有给定形状、步长、设备、句柄和偏移量的新 NDArray。如果未指定句柄（即不引用预先存在的内存），则该调用将分配所需的内存，但如果指定了句柄，则不会分配新内存，而是新的 NDArray 指向与旧的相同的内存。让尽可能多的函数不分配新内存对高效实现很重要，因此你会希望在很多情况下使用这个调用来实现这一点。\n",
        "\n",
        "NDArray 有一个.numpy()调用，可以将数组转换为 numpy 数组。这与“numpy_device”后端不同：这会创建一个与给定 NDArray 等效的实际 numpy.ndarray，即相同的维度、形状等，尽管步长不一定相同（Pybind11 在返回这种矩阵时会重新分配内存，这可能会改变步长）。"
      ],
      "id": "9c56d0eeed747178"
    },
    {
      "cell_type": "markdown",
      "metadata": {
        "id": "eb1360727754fd33"
      },
      "source": [
        "### 第一部分：Python 数组操作\n",
        "\n",
        "作为类的起点，请在 `ndarray.py` 文件中实现以下函数：\n",
        "\n",
        "- `reshape()`\n",
        "- `permute()`\n",
        "- `broadcast_to()`\n",
        "- `__getitem__()`\n",
        "\n",
        "这些函数的输入/输出都在函数存根的文档字符串中进行了描述。需要重点强调的是，**这些函数都不应重新分配内存**，而应返回与 `self` 共享相同内存的 NDArray，只需通过巧妙地操作形状/步长等参数来实现必要的转换。\n",
        "\n",
        "开始时，你可以参考课堂幻灯片中关于转置、广播和切片运算符的提示。\n",
        "\n",
        "需要注意的一点是，与 numpy 不同，`__getitem__()` 调用永远不会改变数组的维度数量。例如，对于一个 2D NDArray `A`，`A[2,2]` 将返回一个仍为 2D 的数组，其中包含一行一列。再例如，`A[:4,2]` 将返回一个具有 4 行 1 列的 2D NDArray。\n",
        "\n",
        "在本节中，你可以依赖 `ndarray_backend_numpy.py` 模块来实现所有代码。你也可以查看等效的 numpy 操作的结果（测试用例应该会说明这些操作是什么）。\n",
        "\n",
        "实现这些函数后，你应该通过/提交以下测试。请注意，我们在下面的测试中测试了所有这四个函数，你可以在实现每个额外的函数时逐步尝试通过更多的测试。"
      ],
      "id": "eb1360727754fd33"
    },
    {
      "cell_type": "code",
      "metadata": {
        "id": "3d5a31dcb4094254",
        "ExecuteTime": {
          "end_time": "2025-08-16T14:38:43.752637Z",
          "start_time": "2025-08-16T14:38:01.296967Z"
        },
        "outputId": "c17c46e7-95f2-4865-9dcb-6eff829c5d16",
        "colab": {
          "base_uri": "https://localhost:8080/"
        }
      },
      "source": [
        "!python -m pytest -v -k \"(permute or reshape or broadcast or getitem) and cpu and not compact\""
      ],
      "id": "3d5a31dcb4094254",
      "outputs": [
        {
          "output_type": "stream",
          "name": "stdout",
          "text": [
            "\u001b[1m============================= test session starts ==============================\u001b[0m\n",
            "platform linux -- Python 3.11.13, pytest-8.4.1, pluggy-1.6.0 -- /usr/bin/python3\n",
            "cachedir: .pytest_cache\n",
            "rootdir: /content/drive/MyDrive/10714/dl_sys_hw3/hw3\n",
            "plugins: typeguard-4.4.4, langsmith-0.4.14, anyio-4.10.0\n",
            "collected 0 items / 1 error                                                    \u001b[0m\n",
            "\n",
            "==================================== ERRORS ====================================\n",
            "\u001b[31m\u001b[1m__________________ ERROR collecting tests/hw3/test_ndarray.py __________________\u001b[0m\n",
            "\u001b[31mImportError while importing test module '/content/drive/MyDrive/10714/dl_sys_hw3/hw3/tests/hw3/test_ndarray.py'.\n",
            "Hint: make sure your test modules/packages have valid Python names.\n",
            "Traceback:\n",
            "/usr/lib/python3.11/importlib/__init__.py:126: in import_module\n",
            "    return _bootstrap._gcd_import(name[level:], package, level)\n",
            "           ^^^^^^^^^^^^^^^^^^^^^^^^^^^^^^^^^^^^^^^^^^^^^^^^^^^^\n",
            "tests/hw3/test_ndarray.py:4: in <module>\n",
            "    import needle as ndl\n",
            "python/needle/__init__.py:2: in <module>\n",
            "    from . import init\n",
            "E   ImportError: cannot import name 'init' from partially initialized module 'needle' (most likely due to a circular import) (/content/drive/MyDrive/10714/dl_sys_hw3/hw3/python/needle/__init__.py)\u001b[0m\n",
            "\u001b[36m\u001b[1m=========================== short test summary info ============================\u001b[0m\n",
            "\u001b[31mERROR\u001b[0m tests/hw3/test_ndarray.py\n",
            "!!!!!!!!!!!!!!!!!!!! Interrupted: 1 error during collection !!!!!!!!!!!!!!!!!!!!\n",
            "\u001b[31m=============================== \u001b[31m\u001b[1m1 error\u001b[0m\u001b[31m in 0.48s\u001b[0m\u001b[31m ===============================\u001b[0m\n"
          ]
        }
      ],
      "execution_count": 13
    },
    {
      "cell_type": "code",
      "execution_count": null,
      "metadata": {
        "id": "bd4b06ebee87c2a9"
      },
      "outputs": [],
      "source": [
        "!python3 -m mugrade submit \"YOUR KEY HERE\" -k \"ndarray_python_ops\""
      ],
      "id": "bd4b06ebee87c2a9"
    },
    {
      "cell_type": "markdown",
      "metadata": {
        "id": "29f40fdb9f4b8784"
      },
      "source": [],
      "id": "29f40fdb9f4b8784"
    },
    {
      "metadata": {
        "id": "2c148368bd1ad34d"
      },
      "cell_type": "markdown",
      "source": [
        "### 第二部分：CPU 后端 - Compact 和 setitem\n",
        "\n",
        "在 `ndarray_backend_cpu.cc` 中实现以下函数：\n",
        "* `Compact()`\n",
        "* `EwiseSetitem()`\n",
        "* `ScalarSetitem()`\n",
        "\n",
        "为了理解为什么这些函数被归为同一类，我们来分析 `Compact()` 函数的实现。回想一下，一个矩阵被认为是**紧凑的（compact）**，如果它以\"行优先（row-major）\"形式连续存储在内存中（实际上是更高维数组的行优先推广），即最后一个维度优先， followed by the second to last dimension, etc, all the way to the first. 在我们的实现中，我们还要求分配的后端数组总大小等于该数组的大小（即，底层数组在数组数据前后不能有任何额外数据，这意味着 `.offset` 字段必须为零）。\n",
        "\n",
        "现在让我们以一个 3D 数组为例，看看 compact 操作是如何工作的。这里的 `shape` 和 `strides` 是要被压缩的矩阵（即压缩前）的形状和步长。\n",
        "\n",
        "```c++\n",
        "cnt = 0;\n",
        "for (size_t i = 0; i < shape[0]; i++)\n",
        "    for (size_t j = 0; j < shape[1]; j++)\n",
        "        for (size_t k = 0; k < shape[2]; k++)\n",
        "            out[cnt++] = in[strides[0]*i + strides[1]*j + strides[2]*k];\n",
        "```\n",
        "\n",
        "换句话说，我们正在从矩阵的基于步长的表示转换为纯粹的连续表示。\n",
        "\n",
        "实现 `Compact()` 的挑战在于，你希望该方法能适用于任何输入维度。为不同的固定维度大小的数组编写专用实现很容易，但对于通用实现，你需要思考如何执行相同的操作，即有效地实现\"可变数量的 for 循环\"。提示一下，一种方法是维护一个索引向量（大小等于维度数），然后在循环中手动递增它们（包括当任何一个索引达到其最大大小时的\"进位\"操作）。\n",
        "\n",
        "不过，如果你在这里确实遇到困难，你可以利用一个事实：我们可能不会要求你处理超过 6 维的矩阵（尽管我们会使用 6 维，用于我们在课堂上讨论的 im2col 操作）。\n",
        "\n",
        "\n",
        "#### 与 setitem 的联系\n",
        "setitem 功能虽然看起来很不一样，但实际上与 `Compact()` 密切相关。`__setitem()__` 是在设置对象的某些元素时调用的 Python 函数，例如：\n",
        "```python\n",
        "A[::2,4:5,9] = 0 # 或者 = some_other_array\n",
        "```\n",
        "\n",
        "你会如何实现这个功能呢？在上面的 `__getitem()__` 调用中，你已经实现了一种无需复制即可获取矩阵子集的方法（只需修改步长）。但是你实际上如何**设置**这个数组的元素呢？在本作业的几乎所有其他设置中，我们在设置输出数组的项之前会调用 `.compact()`，但在这种情况下这行不通：调用 `.compact()` 会将子集数组复制到一些新内存，但 `__setitem__()` 调用的全部意义在于我们想要修改现有内存。\n",
        "\n",
        "如果你思考一下，你会意识到答案看起来很像 `.compact()` 的反向操作。如果我们想要将一个（本身已经紧凑的）右值矩阵分配给 `__getitem()__` 的结果，那么我们需要像这样使用输出矩阵的 `shape` 和 `stride`。然后我们可以如下实现 setitem 调用：\n",
        "\n",
        "```c++\n",
        "cnt = 0;\n",
        "for (size_t i = 0; i < shape[0]; i++)\n",
        "    for (size_t j = 0; j < shape[1]; j++)\n",
        "        for (size_t k = 0; k < shape[2]; k++)\n",
        "            out[strides[0]*i + strides[1]*j + strides[2]*k] = in[cnt++]; // 或者 \"= val;\"\n",
        "```\n",
        "\n",
        "由于这种相似性，如果你以模块化的方式实现你的索引策略，你将能够在 `Compact()` 调用与 `EwiseSetitem()` 和 `ScalarSetitem()` 调用之间重用它。\n",
        "\n",
        "**注意**：在执行测试之前不要忘记运行 make 来重新构建你修改过的 C++ 代码。"
      ],
      "id": "2c148368bd1ad34d"
    },
    {
      "cell_type": "code",
      "execution_count": null,
      "metadata": {
        "id": "41ebc24ad5fc0fe8"
      },
      "outputs": [],
      "source": [
        "!python3 -m pytest -v -k \"(compact or setitem) and cpu\""
      ],
      "id": "41ebc24ad5fc0fe8"
    },
    {
      "cell_type": "code",
      "execution_count": null,
      "metadata": {
        "id": "e6246b4543f29db2"
      },
      "outputs": [],
      "source": [
        "!python3 -m mugrade submit \"YOUR KEY HERE\" -k \"ndarray_cpu_compact_setitem\""
      ],
      "id": "e6246b4543f29db2"
    },
    {
      "cell_type": "markdown",
      "metadata": {
        "id": "555f3a83dc699c04"
      },
      "source": [
        "## Part 3: CPU Backend - Elementwise and scalar operations\n",
        "\n",
        "Implement the following functions in `ndarray_backend_cpu.cc`:\n",
        "\n",
        "* `EwiseMul()`, `ScalarMul()`\n",
        "* `EwiseDiv()`, `ScalarDiv()`\n",
        "* `ScalarPower()`\n",
        "* `EwiseMaximum()`, `ScalarMaximum()`\n",
        "* `EwiseEq()`, `ScalarEq()`\n",
        "* `EwiseGe()`, `ScalarGe()`\n",
        "* `EwiseLog()`\n",
        "* `EwiseExp()`\n",
        "* `EwiseTanh()`\n",
        "\n",
        "You can look at the included\n",
        "`EwiseAdd()` and `ScalarAdd()` functions (plus the invocations from `NDArray` in order to understand the required format of these functions.\n",
        "\n",
        "Note that unlike the remaining functions mentioned here, we do not include function stubs for each of these functions.  This is because, while you can implement these naively just through implementing each function separately, though this will end up with a lot of duplicated code.  You're welcome to use e.g., C++ templates or macros to address this problem (but these would only be exposed internally, not to the external interface)."
      ],
      "id": "555f3a83dc699c04"
    },
    {
      "cell_type": "code",
      "execution_count": null,
      "metadata": {
        "id": "1d6be69706255835"
      },
      "outputs": [],
      "source": [
        "!python3 -m pytest -v -k \"(ewise_fn or ewise_max or log or exp or tanh or (scalar and not setitem)) and cpu\""
      ],
      "id": "1d6be69706255835"
    },
    {
      "cell_type": "code",
      "execution_count": null,
      "metadata": {
        "id": "c982d71b679cd302"
      },
      "outputs": [],
      "source": [
        "!python3 -m mugrade submit \"YOUR KEY HERE\" -k \"ndarray_cpu_ops\""
      ],
      "id": "c982d71b679cd302"
    },
    {
      "cell_type": "markdown",
      "metadata": {
        "id": "a4e568c5d11cf2d2"
      },
      "source": [
        "## Part 4: CPU Backend - Reductions\n",
        "\n",
        "\n",
        "Implement the following functions in `ndarray_backend_cpu.cc`:\n",
        "\n",
        "* `ReduceMax()`\n",
        "* `ReduceSum()`\n",
        "\n",
        "In general, the reduction functions `.max()` and `.sum()` in NDArray take the max or sum across a specified axis specified by the `axis` argument (or across the entire array when `axis=None`); note that we don't support axis being a set of axes, though this wouldn't be too hard to add if you desired (but it's not in the interface you should implement for the homework).\n",
        "\n",
        "Because summing over individual axes can be a bit tricky, even for compact arrays, these functions (in Python) in Python simplify things by permuting the last axis to the be the one reduced over (this is what the `reduce_view_out()` function in NDArray does), then compacting the array.  So for your `ReduceMax()` and `ReduceSum()` functions you implement in C++, you can assume that both the input and output arrays are contiguous in memory, and you want to just reduce over contiguous elements of size `reduce_size` as passed to the C++ functions."
      ],
      "id": "a4e568c5d11cf2d2"
    },
    {
      "cell_type": "code",
      "execution_count": null,
      "metadata": {
        "id": "3bd0ec0a56510715"
      },
      "outputs": [],
      "source": [
        "!python3 -m pytest -v -k \"reduce and cpu\""
      ],
      "id": "3bd0ec0a56510715"
    },
    {
      "cell_type": "code",
      "execution_count": null,
      "metadata": {
        "id": "e6097de0495a2415"
      },
      "outputs": [],
      "source": [
        "!python3 -m mugrade submit \"YOUR KEY HERE\" -k \"ndarray_cpu_reductions\""
      ],
      "id": "e6097de0495a2415"
    },
    {
      "cell_type": "markdown",
      "metadata": {
        "id": "664817549187a526"
      },
      "source": [
        "## Part 5: CPU Backend - Matrix multiplication\n",
        "\n",
        "Implement the following functions in `ndarray_backend_cpu.cc`:\n",
        "\n",
        "* `Matmul()`\n",
        "* `MatmulTiled()`\n",
        "* `AlignedDot()`\n",
        "\n",
        "The first implementation, `Matmul()` can use the naive three-nested-for-loops algorithm for matrix multiplication.  However, the `MatmulTiled()` performs the same matrix multiplication on memory laid out in tiled form, i.e., as a contiguous 4D array\n",
        "```c++\n",
        "float[M/TILE][N/TILE][TILE][TILE];\n",
        "```\n",
        "\n",
        "Make sure to initialize the output matrix to zero before populating it with the correct values during matrix multiplication.\n",
        "\n",
        "Note that the Python `__matmul__` code already does the conversion to tiled form when all sizes of the matrix multiplication are divisible by `TILE`, so your code just needs to implement the multiplication in this form.  In order to make the methods efficient, you will want to make use of (after you implement it), the `AlignedDot()` function, which will enable the compiler to efficiently make use of vector operations and proper caching.  The output matrix will also be in the tiled form above, and the Python backend will take care of the conversion to a normal 2D array.\n",
        "\n",
        "Note that in order to get the most speedup possible from you tiled version, you may want to use the clang compiler with colab instead of gcc.  To do this, run the following command before building your code."
      ],
      "id": "664817549187a526"
    },
    {
      "cell_type": "code",
      "execution_count": null,
      "metadata": {
        "id": "da309102e117e3e4"
      },
      "outputs": [],
      "source": [
        "!python3 -m pytest -v -k \"matmul and cpu\""
      ],
      "id": "da309102e117e3e4"
    },
    {
      "cell_type": "code",
      "execution_count": null,
      "metadata": {
        "id": "8679cc18fb74d891"
      },
      "outputs": [],
      "source": [
        "!python3 -m mugrade submit \"YOUR KEY HERE\" -k \"ndarray_cpu_matmul\""
      ],
      "id": "8679cc18fb74d891"
    },
    {
      "cell_type": "code",
      "execution_count": null,
      "metadata": {
        "id": "1cc92cfcab3af297"
      },
      "outputs": [],
      "source": [
        "!export CXX=/usr/bin/clang++ && make"
      ],
      "id": "1cc92cfcab3af297"
    },
    {
      "cell_type": "markdown",
      "metadata": {
        "id": "65c45ad837d20438"
      },
      "source": [
        "## Part 6: CUDA Backend - Compact and setitem\n",
        "\n",
        "Implement the following functions in `ndarray_backend_cuda.cu`:\n",
        "* `Compact()`\n",
        "* `EwiseSetitem()`\n",
        "* `ScalarSetitem()`\n",
        "\n",
        "\n",
        "For this portion, you'll implement the compact and setitem calls in the CUDA backend.  This is fairly similar to the C++ version, however, depending on how you implemented that function, there could also be some substantial differences.  We specifically want to highlight a few differences between the C++ and the CUDA implementations, however.\n",
        "\n",
        "First, as with the example functions implemented in the CUDA backend code, for all the functions above you will actually want to implement two functions: the basic functions listed above that you will call from Python, and the corresponding CUDA kernels that will actually perform the computation.  For the most part, we only provide the prototype for the \"base\" function in the `ndarray_backend_cuda.cu` file, and you will need to define and implement the kernel function yourself.  However, to see how these work, for the `Compact()` call we are providing you with the _complete_ `Compact()` call, and the function prototype for the `CompactKernel()` call.\n",
        "\n",
        "One thing you may notice is the seemingly odd use of a `CudaVec` struct, which is a struct used to pass shape/stride parameters.  In the C++ version we used the STL `std::vector` variables to store these inputs (and the same is done in the base `Compact()` call, but CUDA kernels cannot operation on STL vectors, so something else is needed).  Furthermore, although we _could_ convert the vectors to normal CUDA arrays, this would be rather cumbersome, as we would need to call `cudaMalloc()`, pass the parameters as integer pointers, then free them after the calls.  Of course such memory management is needed for the actual underlying data in the array, but it seems like overkill to do it for just passing a variable-sized small tuple of shape/stride values.  The solution is to create a struct that has a \"maximize\" size for the number of dimensions an array can have, and then just store the actual shape/stride data in the first entries of these fields.  This is all done by the included `CudaVec` struct and `VecToCuda()` function, and you can just use these as provided for all the CUDA kernels that require passing shape/strides to the kernel itself.\n",
        "\n",
        "The other (more conceptual) big difference between the C++ and CUDA implementations of `Compact()` is that in C++ you will typically loop over the elements of the non-compact array sequentially, which allows you to perform some optimizations with respect to computing the corresponding indices between the compact and non-compact arrays.  In CUDA, you cannot do this, and will need to implement code that can directly map from an index in the compact array to one in the strided array.\n",
        "\n",
        "As before, we recommend you implement your code in such as way that it can easily be re-used between the `Compact()`, and `Setitem()` calls.  As a short note, remember that if you want to call a (separate, non-kernel) function from kernel code, you need to define it as a `__device__` function. In CUDA, `__global__` is used to define a function that runs on the GPU and is called from the CPU host, while `__device__` defines a function that runs and is called only on the GPU from other GPU function code\n"
      ],
      "id": "65c45ad837d20438"
    },
    {
      "cell_type": "code",
      "execution_count": null,
      "metadata": {
        "id": "4e9d712d36cbe20"
      },
      "outputs": [],
      "source": [
        "!python3 -m pytest -v -k \"(compact or setitem) and cuda\""
      ],
      "id": "4e9d712d36cbe20"
    },
    {
      "cell_type": "code",
      "execution_count": null,
      "metadata": {
        "id": "64b18fe27ad792e8"
      },
      "outputs": [],
      "source": [
        "!python3 -m mugrade submit \"YOUR KEY HERE\" -k \"ndarray_cuda_compact_setitem\""
      ],
      "id": "64b18fe27ad792e8"
    },
    {
      "cell_type": "markdown",
      "metadata": {
        "id": "1730c7f26d8b8513"
      },
      "source": [
        "## Part 7: CUDA Backend - Elementwise and scalar operations\n",
        "\n",
        "Implement the following functions in `ndarray_backend_cuda.cu`:\n",
        "\n",
        "* `EwiseMul()`, `ScalarMul()`\n",
        "* `EwiseDiv()`, `ScalarDiv()`\n",
        "* `ScalarPower()`\n",
        "* `EwiseMaximum()`, `ScalarMaximum()`\n",
        "* `EwiseEq()`, `ScalarEq()`\n",
        "* `EwiseGe()`, `ScalarGe()`\n",
        "* `EwiseLog()`\n",
        "* `EwiseExp()`\n",
        "* `EwiseTanh()`\n",
        "\n",
        "Again, we don't provide these function prototypes, and you're welcome to use C++ templates or macros to make this implementation more compact.  You will also want to uncomment the appropriate regions of the Pybind11 code once you've implemented each function."
      ],
      "id": "1730c7f26d8b8513"
    },
    {
      "cell_type": "code",
      "execution_count": null,
      "metadata": {
        "id": "66602d99fd32c404"
      },
      "outputs": [],
      "source": [
        "!python3 -m pytest -v -k \"(ewise_fn or ewise_max or log or exp or tanh or (scalar and not setitem)) and cuda\""
      ],
      "id": "66602d99fd32c404"
    },
    {
      "cell_type": "code",
      "execution_count": null,
      "metadata": {
        "id": "9f01b66fd61db8f3"
      },
      "outputs": [],
      "source": [
        "!python3 -m mugrade submit \"YOUR KEY HERE\" -k \"ndarray_cuda_ops\""
      ],
      "id": "9f01b66fd61db8f3"
    },
    {
      "cell_type": "markdown",
      "metadata": {
        "id": "abbf30a5a8ff2e3e"
      },
      "source": [
        "## Part 8: CUDA Backend - Reductions\n",
        "\n",
        "\n",
        "Implement the following functions in `ndarray_backend_cuda.cu`:\n",
        "\n",
        "* `ReduceMax()`\n",
        "* `ReduceSum()`\n",
        "\n",
        "You can take a fairly simplistic approach here, and just use a separate CUDA thread for each individual reduction item: i.e., if there is a 100 x 20 array you are reducing over the second dimension, you could have 100 threads, each of which individually processed its own 20-dimensional array..  This is particularly inefficient for the `.max(axis=None)` calls, but we won't worry about this for the time being.  If you want a more industrial-grade implementation, you use a hierarchical mechanism that first aggregated across some smaller span, then had a secondary function that aggregated across _these_ reduced arrays, etc.  But this is not needed to pass the tests."
      ],
      "id": "abbf30a5a8ff2e3e"
    },
    {
      "cell_type": "code",
      "execution_count": null,
      "metadata": {
        "id": "2f4fee4cf569b0cd"
      },
      "outputs": [],
      "source": [
        "!python3 -m pytest -v -k \"reduce and cuda\""
      ],
      "id": "2f4fee4cf569b0cd"
    },
    {
      "cell_type": "code",
      "execution_count": null,
      "metadata": {
        "id": "2fe49bd6f6829282"
      },
      "outputs": [],
      "source": [
        "!python3 -m mugrade submit \"YOUR KEY HERE\" -k \"ndarray_cuda_reductions\""
      ],
      "id": "2fe49bd6f6829282"
    },
    {
      "cell_type": "markdown",
      "metadata": {
        "id": "64744e9a58343446"
      },
      "source": [
        "## Part 9: CUDA Backend - Matrix multiplication\n",
        "\n",
        "Implement the following functions in `ndarray_backend_cuda.cu`:\n",
        "\n",
        "* `Matmul()`\n",
        "\n",
        "Finally, as your final exercise, you'll implement matrix multiplication on the GPU.  Your implementation here can roughly follow the presentation in class.  While you can pass the tests using fairly naive code here (i.e., you could just have a separate thread for each (i,j) location in the matrix, doing the matrix multiplication efficiently (to make it actually faster than a CPU version) requires cooperative fetching and the block shared memory register tiling covered in class.  Try to implement using these methods, and see how much faster you can get your code than the C++ (or numpy) backends.\n"
      ],
      "id": "64744e9a58343446"
    },
    {
      "cell_type": "code",
      "execution_count": null,
      "metadata": {
        "id": "d5ec22bdaced7aee"
      },
      "outputs": [],
      "source": [
        "!python3 -m pytest -v -k \"matmul and cuda\""
      ],
      "id": "d5ec22bdaced7aee"
    },
    {
      "cell_type": "code",
      "execution_count": null,
      "metadata": {
        "id": "e9e5bfd31c013fc7"
      },
      "outputs": [],
      "source": [
        "!python3 -m mugrade submit \"YOUR KEY HERE\" -k \"ndarray_cuda_matmul\""
      ],
      "id": "e9e5bfd31c013fc7"
    }
  ],
  "metadata": {
    "accelerator": "GPU",
    "colab": {
      "name": "hw3.ipynb",
      "provenance": []
    },
    "kernelspec": {
      "display_name": "Python 3.8.10 64-bit",
      "language": "python",
      "name": "python3"
    },
    "language_info": {
      "codemirror_mode": {
        "name": "ipython",
        "version": 3
      },
      "file_extension": ".py",
      "mimetype": "text/x-python",
      "name": "python",
      "nbconvert_exporter": "python",
      "pygments_lexer": "ipython3",
      "version": "3.8.10"
    },
    "vscode": {
      "interpreter": {
        "hash": "916dbcbb3f70747c44a77c7bcd40155683ae19c65e1c03b4aa3499c5328201f1"
      }
    }
  },
  "nbformat": 4,
  "nbformat_minor": 5
}